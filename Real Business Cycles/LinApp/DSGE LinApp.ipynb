{
 "cells": [
  {
   "cell_type": "markdown",
   "id": "ecological-standing",
   "metadata": {},
   "source": [
    "# Solving and Simulating a DSGE Model using the LinApp Package in Python"
   ]
  },
  {
   "cell_type": "markdown",
   "id": "offshore-shift",
   "metadata": {},
   "source": [
    "Taken from: https://notes.quantecon.org/submission/5b3ec499b9eab00015b89f97"
   ]
  },
  {
   "cell_type": "code",
   "execution_count": null,
   "id": "9155450f",
   "metadata": {},
   "outputs": [],
   "source": []
  }
 ],
 "metadata": {
  "kernelspec": {
   "display_name": "Python 3",
   "language": "python",
   "name": "python3"
  },
  "language_info": {
   "codemirror_mode": {
    "name": "ipython",
    "version": 3
   },
   "file_extension": ".py",
   "mimetype": "text/x-python",
   "name": "python",
   "nbconvert_exporter": "python",
   "pygments_lexer": "ipython3",
   "version": "3.8.8"
  }
 },
 "nbformat": 4,
 "nbformat_minor": 5
}
