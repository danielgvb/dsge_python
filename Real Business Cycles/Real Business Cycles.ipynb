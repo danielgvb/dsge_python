{
 "cells": [
  {
   "cell_type": "markdown",
   "id": "spatial-hawaiian",
   "metadata": {},
   "source": [
    "# Real Business Cycle estimation "
   ]
  },
  {
   "cell_type": "markdown",
   "id": "little-sarah",
   "metadata": {},
   "source": [
    "Taken from http://www.chadfulton.com/topics/estimating_rbc.html"
   ]
  },
  {
   "cell_type": "markdown",
   "id": "expressed-condition",
   "metadata": {},
   "source": [
    "Here, we are going to estimate a Real Business Cycle DSGE Model by Maximum Likelihood in Python"
   ]
  },
  {
   "cell_type": "code",
   "execution_count": 3,
   "id": "liable-lambda",
   "metadata": {},
   "outputs": [],
   "source": [
    "#import packages\n",
    "%matplotlib inline\n",
    "from __future__ import division\n",
    "\n",
    "import numpy as np\n",
    "from scipy import optimize, signal\n",
    "import pandas as pd\n",
    "#from pandas_datareader.data import DataReader\n",
    "import statsmodels.api as sm\n",
    "from statsmodels.tools.numdiff import approx_fprime, approx_fprime_cs\n",
    "from IPython.display import display\n",
    "import matplotlib.pyplot as plt\n",
    "# import seaborn as sn\n",
    "\n",
    "from numpy.testing import assert_allclose\n",
    "\n",
    "# Set some pretty-printing options\n",
    "np.set_printoptions(precision=3, suppress=True, linewidth=120)\n",
    "pd.set_option('float_format', lambda x: '%.3g' % x, )"
   ]
  },
  {
   "cell_type": "markdown",
   "id": "dimensional-malawi",
   "metadata": {},
   "source": [
    "## Household Problem"
   ]
  },
  {
   "cell_type": "markdown",
   "id": "vertical-bacon",
   "metadata": {},
   "source": [
    "$$\n",
    "\\max E_0 \\sum_{t=0}^\\infty \\beta^t u(c_t, l_t)\n",
    "$$\n",
    "subject to:\n",
    "\n",
    "the budget constraint: \n",
    "$$ yt=ct+it $$\n",
    "the capital accumulation equation: $$ kt+1=(1−δ)kt+it $$\n",
    "$$ 1=lt+nt $$\n",
    "where households have the following production technology:\n",
    "$$\n",
    "y_t = z_t f(k_t, n_t)\n",
    "$$\n",
    "and where the (log of the) technology process follows an AR(1) process:\n",
    "$$\n",
    "\\log z_t = \\rho \\log z_{t-1} + \\varepsilon_t, \\qquad \\varepsilon_t \\sim N(0, \\sigma^2)\n",
    "$$"
   ]
  },
  {
   "cell_type": "markdown",
   "id": "brave-wallace",
   "metadata": {},
   "source": [
    "## Functional forms"
   ]
  },
  {
   "cell_type": "markdown",
   "id": "wanted-accessory",
   "metadata": {},
   "source": [
    "We will assume additively separable utility in consumption and leisure, with:\n",
    "\n",
    "$$u(c_t, n_t) = \\log(c_t) + \\psi l_t$$\n",
    "where ψ is a scalar weight.\n",
    "\n",
    "The production function will be Cobb-Douglas:\n",
    "\n",
    "$$\n",
    "f(k_t, n_t) = k_t^\\alpha n_t^{1 - \\alpha}\n",
    "$$"
   ]
  },
  {
   "cell_type": "markdown",
   "id": "quality-danger",
   "metadata": {},
   "source": [
    "## Optimal behavior"
   ]
  },
  {
   "cell_type": "markdown",
   "id": "authentic-disclaimer",
   "metadata": {},
   "source": [
    "Optimal household behavior is standard:\n",
    "\n",
    "$$\n",
    "ψ1ct=1ct(1−α)zt(ktnt)α=βEt{1ct+1[αzt+1(kt+1nt+1)α−1+(1−δ)]}\n",
    "$$"
   ]
  }
 ],
 "metadata": {
  "kernelspec": {
   "display_name": "Python 3",
   "language": "python",
   "name": "python3"
  },
  "language_info": {
   "codemirror_mode": {
    "name": "ipython",
    "version": 3
   },
   "file_extension": ".py",
   "mimetype": "text/x-python",
   "name": "python",
   "nbconvert_exporter": "python",
   "pygments_lexer": "ipython3",
   "version": "3.8.5"
  }
 },
 "nbformat": 4,
 "nbformat_minor": 5
}
