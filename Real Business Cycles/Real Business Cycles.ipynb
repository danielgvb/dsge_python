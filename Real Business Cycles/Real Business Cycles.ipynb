{
 "cells": [
  {
   "cell_type": "markdown",
   "id": "spatial-hawaiian",
   "metadata": {},
   "source": [
    "# Real Business Cycle estimation "
   ]
  },
  {
   "cell_type": "markdown",
   "id": "little-sarah",
   "metadata": {},
   "source": [
    "Taken from http://www.chadfulton.com/topics/estimating_rbc.html"
   ]
  },
  {
   "cell_type": "markdown",
   "id": "expressed-condition",
   "metadata": {},
   "source": [
    "Here, we are going to estimate a Real Business Cycle DSGE Model by Maximum Likelihood in Python"
   ]
  },
  {
   "cell_type": "code",
   "execution_count": 3,
   "id": "liable-lambda",
   "metadata": {},
   "outputs": [],
   "source": [
    "#import packages\n",
    "%matplotlib inline\n",
    "from __future__ import division\n",
    "\n",
    "import numpy as np\n",
    "from scipy import optimize, signal\n",
    "import pandas as pd\n",
    "#from pandas_datareader.data import DataReader\n",
    "import statsmodels.api as sm\n",
    "from statsmodels.tools.numdiff import approx_fprime, approx_fprime_cs\n",
    "from IPython.display import display\n",
    "import matplotlib.pyplot as plt\n",
    "# import seaborn as sn\n",
    "\n",
    "from numpy.testing import assert_allclose\n",
    "\n",
    "# Set some pretty-printing options\n",
    "np.set_printoptions(precision=3, suppress=True, linewidth=120)\n",
    "pd.set_option('float_format', lambda x: '%.3g' % x, )"
   ]
  },
  {
   "cell_type": "markdown",
   "id": "dimensional-malawi",
   "metadata": {},
   "source": [
    "## Household Problem"
   ]
  },
  {
   "cell_type": "markdown",
   "id": "vertical-bacon",
   "metadata": {},
   "source": [
    "$$\n",
    "\\max E_0 \\sum_{t=0}^\\infty \\beta^t u(c_t, l_t)\n",
    "$$\n",
    "subject to:\n",
    "\n",
    "the budget constraint: \n",
    "$$ yt=ct+it $$\n",
    "the capital accumulation equation: $$ kt+1=(1−δ)kt+it $$\n",
    "$$ 1=lt+nt $$\n",
    "where households have the following production technology:\n",
    "$$\n",
    "y_t = z_t f(k_t, n_t)\n",
    "$$\n",
    "and where the (log of the) technology process follows an AR(1) process:\n",
    "$$\n",
    "\\log z_t = \\rho \\log z_{t-1} + \\varepsilon_t, \\qquad \\varepsilon_t \\sim N(0, \\sigma^2)\n",
    "$$"
   ]
  },
  {
   "cell_type": "markdown",
   "id": "brave-wallace",
   "metadata": {},
   "source": [
    "## Functional forms"
   ]
  },
  {
   "cell_type": "markdown",
   "id": "wanted-accessory",
   "metadata": {},
   "source": [
    "We will assume additively separable utility in consumption and leisure, with:\n",
    "\n",
    "$$u(c_t, n_t) = \\log(c_t) + \\psi l_t$$\n",
    "where $\\psi$ is a scalar weight.\n",
    "\n",
    "The production function will be Cobb-Douglas:\n",
    "\n",
    "$$\n",
    "f(k_t, n_t) = k_t^\\alpha n_t^{1 - \\alpha}\n",
    "$$"
   ]
  },
  {
   "cell_type": "markdown",
   "id": "quality-danger",
   "metadata": {},
   "source": [
    "## Optimal behavior"
   ]
  },
  {
   "attachments": {},
   "cell_type": "markdown",
   "id": "authentic-disclaimer",
   "metadata": {},
   "source": [
    "Optimal household behavior is standard:\n",
    "\n",
    "$\n",
    "\\psi = \\frac{1}{c_{t}}(1-\\alpha)z_{t}  (\\frac{k_{t}}{n_{t}})^\\alpha\n",
    "$\n",
    "\n",
    "$\n",
    "\\frac{1}{c_{t}} = \\beta E_{t}  \\{\\frac{1}{c_{t+1}} [\\alpha z_{t+1} (\\frac{k_{t+1}}{n_{t+1}})^ {\\alpha-1} + (1 - \\delta)]\\}\n",
    "$\n",
    "\n"
   ]
  },
  {
   "cell_type": "markdown",
   "id": "8106faf1",
   "metadata": {},
   "source": [
    "## Nonlinear system"
   ]
  },
  {
   "cell_type": "markdown",
   "id": "8c9fac34",
   "metadata": {},
   "source": [
    "$ \\psi c_{t} = (1-\\alpha) z_{t} (\\frac{k_{t}}{n_{t}})^ \\alpha $,      Static FOC\n",
    "\n",
    "$ \\frac{1}{c_{t}} = \\beta E_{t}  \\{\\frac{1}{c_{t+1}} [\\alpha z_{t+1} (\\frac{k_{t+1}}{n_{t+1}})^ {\\alpha-1} + (1 - \\delta)]\\}\n",
    "$, Euler equation\n",
    "\n",
    "$ y_{t} = z_{t} k_{t}^\\alpha n_{t}^{1-\\alpha}$,  Production function\n",
    "\n",
    "$ y_{t} = c_{t} + i_{t}$,  Aggregate resource constrainte\n",
    "\n",
    "$ k_{t+1} = (1-\\delta) k_{t} + i_{t }$ ,  Capital accumulation\n",
    "\n",
    "$ 1 = l_{t} + n_{t} $ , Labor-Leisure Trade-off\n",
    "\n",
    "$ log z_{t} = \\rho log z_{t-1} + \\varepsilon_{t} $ , Technology shock transition\n",
    "\n"
   ]
  },
  {
   "cell_type": "markdown",
   "id": "75184ab3",
   "metadata": {},
   "source": [
    "## Variables / Parameters"
   ]
  },
  {
   "cell_type": "markdown",
   "id": "98295516",
   "metadata": {},
   "source": [
    "This system is in the following variables:\n",
    "\n",
    "\n",
    "$x_{t} = \\{ \\\\\n",
    "y_{t}, \\text{Output} \\\\\n",
    "c_{t}, \\text{Consumption} \\\\\n",
    "i_{t}, \\text{Investment} \\\\\n",
    "n_{t}, \\text{Labor} \\\\\n",
    "l_{t}, \\text{Leisure} \\\\\n",
    "k_{t}, \\text{Capital} \\\\\n",
    "z_{t}, \\text{Technology} \\\\\n",
    "            \\\\\n",
    "\\}$\n",
    "\n",
    "and depends on the following parameters:\n",
    "$ \\{ \\\\\n",
    "\\beta, \\text{Discount rate} \\\\\n",
    "\\psi, \\text{Marginal disutility of labor} \\\\\n",
    "\\delta, \\text{Depreciation rate} \\\\\n",
    "\\alpha, \\text{Capital-share output} \\\\\n",
    "\\rho, \\text{Technology shock persistence} \\\\\n",
    "\\sigma^2, \\text{Technology shock variance} \\\\\n",
    "            \\\\\n",
    "\\}$"
   ]
  },
  {
   "cell_type": "code",
   "execution_count": null,
   "id": "0578a40d",
   "metadata": {},
   "outputs": [],
   "source": [
    "# Save the names of the equations, variables, and parameters\n",
    "equation_names = [\n",
    "    'static FOC', 'euler equation', 'production',\n",
    "    'aggregate resource constraint', 'capital accumulation',\n",
    "    'labor-leisure', 'technology shock transition'\n",
    "]\n",
    "variable_names = [\n",
    "    'output', 'consumption', 'investment',\n",
    "    'labor', 'leisure', 'capital', 'technology'\n",
    "]\n",
    "parameter_names = [\n",
    "    'discount rate', 'marginal disutility of labor',\n",
    "    'depreciation rate', 'capital share',\n",
    "    'technology shock persistence',\n",
    "    'technology shock standard deviation',\n",
    "]\n",
    "\n",
    "# Save some symbolic forms for pretty-printing\n",
    "variable_symbols = [\n",
    "    r\"y\", r\"c\", r\"i\", r\"n\", r\"l\", r\"k\", r\"z\",\n",
    "]\n",
    "contemporaneous_variable_symbols = [\n",
    "    r\"$%s_t$\" % symbol for symbol in variable_symbols\n",
    "]\n",
    "lead_variable_symbols = [\n",
    "    r\"$%s_{t+1}$\" % symbol for symbol in variable_symbols\n",
    "]\n",
    "\n",
    "parameter_symbols = [\n",
    "    r\"$\\beta$\", r\"$\\psi$\", r\"$\\delta$\", r\"$\\alpha$\", r\"$\\rho$\", r\"$\\sigma^2$\"\n",
    "]"
   ]
  },
  {
   "cell_type": "markdown",
   "id": "c0fb5321",
   "metadata": {},
   "source": [
    "## Numerical method"
   ]
  },
  {
   "cell_type": "markdown",
   "id": "fcf3107e",
   "metadata": {},
   "source": [
    "Using these equations, we can numerically find the steady-state using a root-finding algorithm and can then log-linearize around the steady-state using a numerical gradient procedure. In particular, here we follow DeJong and Dave (2011) chapter 2 and 3.1.\n",
    "\n",
    "Write the generic non-linear system as:\n",
    "\n",
    "$\\Gamma(E_t x_{t+1}, x_t, z_t) = 0$\n",
    "in the absense of shocks, this can be rewritten as:\n",
    "\n",
    "$\\Psi(x_{t+1}, x_t) = 0$\n",
    "or as:\n",
    "\n",
    "$\\Psi_1(x_{t+1}, x_t) = \\Psi_2(x_{t+1}, x_t)$\n",
    "and finally in logs as\n",
    "\n",
    "$\\log \\Psi_1(e^{\\log x_{t+1}}, e^{\\log x_t}) - \\log \\Psi_2(e^{\\log x_{t+1}}, e^{\\log x_t}) = 0$\n",
    "First, we define a new class (```RBC1```) which holds the state of the RBC model (its dimensions, parameters, etc) and has methods for evaluating the log system. The ```eval_logged``` method evaluates the last equation, above.\n",
    "\n",
    "Notice that the order of variables and order of equations is as described above."
   ]
  },
  {
   "cell_type": "code",
   "execution_count": null,
   "id": "7b681e3e",
   "metadata": {},
   "outputs": [],
   "source": [
    "class RBC1(object):\n",
    "    def __init__(self, params=None):\n",
    "        # Model dimensions\n",
    "        self.k_params = 6\n",
    "        self.k_variables = 7\n",
    "        \n",
    "        # Initialize parameters\n",
    "        if params is not None:\n",
    "            self.update(params)\n",
    "    \n",
    "    def update(self, params):\n",
    "        # Save deep parameters\n",
    "        self.discount_rate = params[0]\n",
    "        self.disutility_labor = params[1]\n",
    "        self.depreciation_rate = params[2]\n",
    "        self.capital_share = params[3]\n",
    "        self.technology_shock_persistence = params[4]\n",
    "        self.technology_shock_std = params[5]\n",
    "        \n",
    "    def eval_logged(self, log_lead, log_contemporaneous):\n",
    "        (log_lead_output, log_lead_consumption, log_lead_investment,\n",
    "         log_lead_labor, log_lead_leisure, log_lead_capital,\n",
    "         log_lead_technology_shock) = log_lead\n",
    "        \n",
    "        (log_output, log_consumption, log_investment, log_labor,\n",
    "         log_leisure, log_capital, log_technology_shock) = log_contemporaneous\n",
    "        \n",
    "        return np.r_[\n",
    "            self.log_static_foc(\n",
    "                log_lead_consumption, log_lead_labor,\n",
    "                log_lead_capital, log_lead_technology_shock\n",
    "            ),\n",
    "            self.log_euler_equation(\n",
    "                log_lead_consumption, log_lead_labor,\n",
    "                log_lead_capital, log_lead_technology_shock,\n",
    "                log_consumption\n",
    "            ),\n",
    "            self.log_production(\n",
    "                log_lead_output, log_lead_labor, log_lead_capital,\n",
    "                log_lead_technology_shock\n",
    "            ),\n",
    "            self.log_aggregate_resource_constraint(\n",
    "                log_lead_output, log_lead_consumption,\n",
    "                log_lead_investment\n",
    "            ),\n",
    "            self.log_capital_accumulation(\n",
    "                log_lead_capital, log_investment, log_capital\n",
    "            ),\n",
    "            self.log_labor_leisure_constraint(\n",
    "                log_lead_labor, log_lead_leisure\n",
    "            ),\n",
    "            self.log_technology_shock_transition(\n",
    "                log_lead_technology_shock, log_technology_shock\n",
    "            )\n",
    "        ]\n",
    "    \n",
    "    def log_static_foc(self, log_lead_consumption, log_lead_labor,\n",
    "                       log_lead_capital, log_lead_technology_shock):\n",
    "        return (\n",
    "            np.log(self.disutility_labor) +\n",
    "            log_lead_consumption -\n",
    "            np.log(1 - self.capital_share) -\n",
    "            log_lead_technology_shock -\n",
    "            self.capital_share * (log_lead_capital - log_lead_labor)\n",
    "        )\n",
    "        \n",
    "    def log_euler_equation(self, log_lead_consumption, log_lead_labor,\n",
    "                           log_lead_capital, log_lead_technology_shock,\n",
    "                           log_consumption):\n",
    "        return (\n",
    "            -log_consumption -\n",
    "            np.log(self.discount_rate) +\n",
    "            log_lead_consumption -\n",
    "            np.log(\n",
    "                (self.capital_share *\n",
    "                 np.exp(log_lead_technology_shock) * \n",
    "                 np.exp((1 - self.capital_share) * log_lead_labor) /\n",
    "                 np.exp((1 - self.capital_share) * log_lead_capital)) +\n",
    "                (1 - self.depreciation_rate)\n",
    "            )\n",
    "        )\n",
    "        \n",
    "    def log_production(self, log_lead_output, log_lead_labor, log_lead_capital,\n",
    "                       log_lead_technology_shock):\n",
    "        return (\n",
    "            log_lead_output -\n",
    "            log_lead_technology_shock -\n",
    "            self.capital_share * log_lead_capital -\n",
    "            (1 - self.capital_share) * log_lead_labor\n",
    "        )\n",
    "        \n",
    "    def log_aggregate_resource_constraint(self, log_lead_output, log_lead_consumption,\n",
    "                                          log_lead_investment):\n",
    "        return (\n",
    "            log_lead_output -\n",
    "            np.log(np.exp(log_lead_consumption) + np.exp(log_lead_investment))\n",
    "        )\n",
    "    \n",
    "    def log_capital_accumulation(self, log_lead_capital, log_investment, log_capital):\n",
    "        return (\n",
    "            log_lead_capital -\n",
    "            np.log(np.exp(log_investment) + (1 - self.depreciation_rate) * np.exp(log_capital))\n",
    "        )\n",
    "    \n",
    "    def log_labor_leisure_constraint(self, log_lead_labor, log_lead_leisure):\n",
    "        return (\n",
    "            -np.log(np.exp(log_lead_labor) + np.exp(log_lead_leisure))\n",
    "        )\n",
    "    \n",
    "    def log_technology_shock_transition(self, log_lead_technology_shock, log_technology_shock):\n",
    "        return (\n",
    "            log_lead_technology_shock -\n",
    "            self.technology_shock_persistence * log_technology_shock\n",
    "        )"
   ]
  },
  {
   "cell_type": "markdown",
   "id": "94ee564a",
   "metadata": {},
   "source": [
    "Later we will estimate (some of) the parameters; in the meantime we fix them at the values used to generate the datasets in Ruge-Murcia (2007)."
   ]
  },
  {
   "cell_type": "code",
   "execution_count": null,
   "id": "1790e162",
   "metadata": {},
   "outputs": [],
   "source": [
    "# Setup fixed parameters\n",
    "parameters = pd.DataFrame({\n",
    "    'name': parameter_names,\n",
    "    'value': [0.95, 3, 0.025, 0.36, 0.85, 0.04]\n",
    "})\n",
    "parameters.T"
   ]
  }
 ],
 "metadata": {
  "kernelspec": {
   "display_name": "Python 3",
   "language": "python",
   "name": "python3"
  },
  "language_info": {
   "codemirror_mode": {
    "name": "ipython",
    "version": 3
   },
   "file_extension": ".py",
   "mimetype": "text/x-python",
   "name": "python",
   "nbconvert_exporter": "python",
   "pygments_lexer": "ipython3",
   "version": "3.8.8"
  }
 },
 "nbformat": 4,
 "nbformat_minor": 5
}
